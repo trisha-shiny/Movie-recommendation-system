{
  "nbformat": 4,
  "nbformat_minor": 0,
  "metadata": {
    "colab": {
      "provenance": [],
      "authorship_tag": "ABX9TyO5GY2yLeiTyfkAqtXNI1Yy",
      "include_colab_link": true
    },
    "kernelspec": {
      "name": "python3",
      "display_name": "Python 3"
    },
    "language_info": {
      "name": "python"
    }
  },
  "cells": [
    {
      "cell_type": "markdown",
      "metadata": {
        "id": "view-in-github",
        "colab_type": "text"
      },
      "source": [
        "<a href=\"https://colab.research.google.com/github/trisha-shiny/Movie-recommendation-system/blob/main/5_Movie_recommendation_system.ipynb\" target=\"_parent\"><img src=\"https://colab.research.google.com/assets/colab-badge.svg\" alt=\"Open In Colab\"/></a>"
      ]
    },
    {
      "cell_type": "code",
      "execution_count": 1,
      "metadata": {
        "colab": {
          "base_uri": "https://localhost:8080/"
        },
        "id": "KQzsW7xGP-PM",
        "outputId": "430b0bf1-3c07-401b-f576-9e7e705a6070"
      },
      "outputs": [
        {
          "output_type": "stream",
          "name": "stdout",
          "text": [
            "Requirement already satisfied: pandas in /usr/local/lib/python3.12/dist-packages (2.2.2)\n",
            "Requirement already satisfied: numpy in /usr/local/lib/python3.12/dist-packages (2.0.2)\n",
            "Requirement already satisfied: scikit-learn in /usr/local/lib/python3.12/dist-packages (1.6.1)\n",
            "Requirement already satisfied: python-dateutil>=2.8.2 in /usr/local/lib/python3.12/dist-packages (from pandas) (2.9.0.post0)\n",
            "Requirement already satisfied: pytz>=2020.1 in /usr/local/lib/python3.12/dist-packages (from pandas) (2025.2)\n",
            "Requirement already satisfied: tzdata>=2022.7 in /usr/local/lib/python3.12/dist-packages (from pandas) (2025.2)\n",
            "Requirement already satisfied: scipy>=1.6.0 in /usr/local/lib/python3.12/dist-packages (from scikit-learn) (1.16.1)\n",
            "Requirement already satisfied: joblib>=1.2.0 in /usr/local/lib/python3.12/dist-packages (from scikit-learn) (1.5.1)\n",
            "Requirement already satisfied: threadpoolctl>=3.1.0 in /usr/local/lib/python3.12/dist-packages (from scikit-learn) (3.6.0)\n",
            "Requirement already satisfied: six>=1.5 in /usr/local/lib/python3.12/dist-packages (from python-dateutil>=2.8.2->pandas) (1.17.0)\n"
          ]
        }
      ],
      "source": [
        "!pip install pandas numpy scikit-learn"
      ]
    },
    {
      "cell_type": "code",
      "source": [
        "import pandas as pd\n",
        "import numpy as np\n",
        "from sklearn.metrics.pairwise import cosine_similarity"
      ],
      "metadata": {
        "id": "RAAsYkjxTdwN"
      },
      "execution_count": 2,
      "outputs": []
    },
    {
      "cell_type": "code",
      "source": [
        "ratings = pd.read_csv(\"rating.csv\", on_bad_lines='skip', engine='python')\n",
        "movies = pd.read_csv(\"movie.csv\")"
      ],
      "metadata": {
        "id": "I9MPeZGsThhd"
      },
      "execution_count": 5,
      "outputs": []
    },
    {
      "cell_type": "code",
      "source": [
        "print(\"Ratings Shape:\", ratings.shape)\n",
        "print(\"Movies Shape:\", movies.shape)\n",
        "print(\"Sample Ratings:\\n\", ratings.head())\n",
        "print(\"Sample Movies:\\n\", movies.head())"
      ],
      "metadata": {
        "colab": {
          "base_uri": "https://localhost:8080/"
        },
        "id": "an9vaxmkTrG2",
        "outputId": "2295d0e1-1806-4930-f118-d5559a8c4f55"
      },
      "execution_count": 6,
      "outputs": [
        {
          "output_type": "stream",
          "name": "stdout",
          "text": [
            "Ratings Shape: (2644730, 4)\n",
            "Movies Shape: (27278, 3)\n",
            "Sample Ratings:\n",
            "    userId  movieId  rating            timestamp\n",
            "0       1        2     3.5  2005-04-02 23:53:47\n",
            "1       1       29     3.5  2005-04-02 23:31:16\n",
            "2       1       32     3.5  2005-04-02 23:33:39\n",
            "3       1       47     3.5  2005-04-02 23:32:07\n",
            "4       1       50     3.5  2005-04-02 23:29:40\n",
            "Sample Movies:\n",
            "    movieId                               title  \\\n",
            "0        1                    Toy Story (1995)   \n",
            "1        2                      Jumanji (1995)   \n",
            "2        3             Grumpier Old Men (1995)   \n",
            "3        4            Waiting to Exhale (1995)   \n",
            "4        5  Father of the Bride Part II (1995)   \n",
            "\n",
            "                                        genres  \n",
            "0  Adventure|Animation|Children|Comedy|Fantasy  \n",
            "1                   Adventure|Children|Fantasy  \n",
            "2                               Comedy|Romance  \n",
            "3                         Comedy|Drama|Romance  \n",
            "4                                       Comedy  \n"
          ]
        }
      ]
    },
    {
      "cell_type": "code",
      "source": [
        "user_movie_matrix = ratings.pivot_table(index=\"userId\", columns=\"movieId\", values=\"rating\")\n",
        "user_movie_matrix.fillna(0, inplace=True)"
      ],
      "metadata": {
        "id": "4_kYexsVUCwj"
      },
      "execution_count": 7,
      "outputs": []
    },
    {
      "cell_type": "code",
      "source": [
        "similarity_matrix = cosine_similarity(user_movie_matrix)\n",
        "similarity_df = pd.DataFrame(similarity_matrix, index=user_movie_matrix.index, columns=user_movie_matrix.index)"
      ],
      "metadata": {
        "id": "6EB32yJXUGxd"
      },
      "execution_count": 8,
      "outputs": []
    },
    {
      "cell_type": "code",
      "source": [
        "def recommend_movies(user_id, num_recommendations=5):\n",
        "    # Get similarity scores for the given user\n",
        "    similar_users = similarity_df[user_id].sort_values(ascending=False)\n",
        "\n",
        "    # Get movies not rated by this user\n",
        "    user_ratings = user_movie_matrix.loc[user_id]\n",
        "    unrated_movies = user_ratings[user_ratings == 0].index\n",
        "\n",
        "    scores = {}\n",
        "    for other_user, similarity in similar_users.items():\n",
        "        if other_user == user_id:\n",
        "            continue\n",
        "        other_ratings = user_movie_matrix.loc[other_user, unrated_movies]\n",
        "        for movie, rating in other_ratings.items():\n",
        "            if rating > 0:\n",
        "                if movie not in scores:\n",
        "                    scores[movie] = 0\n",
        "                scores[movie] += similarity * rating\n",
        "\n",
        "    # Sort movies by score\n",
        "    sorted_scores = sorted(scores.items(), key=lambda x: x[1], reverse=True)\n",
        "    recommended_movie_ids = [movie for movie, score in sorted_scores[:num_recommendations]]\n",
        "\n",
        "    return movies[movies['movieId'].isin(recommended_movie_ids)]\n"
      ],
      "metadata": {
        "id": "kUb1s8srUMGe"
      },
      "execution_count": 9,
      "outputs": []
    },
    {
      "cell_type": "code",
      "source": [
        "print(\"\\n Recommended Movies for User 1:\")\n",
        "print(recommend_movies(user_id=1, num_recommendations=5))"
      ],
      "metadata": {
        "colab": {
          "base_uri": "https://localhost:8080/"
        },
        "id": "iFwY6_5JVhBn",
        "outputId": "cdfb7166-2b66-4b42-e073-632bde31f415"
      },
      "execution_count": 10,
      "outputs": [
        {
          "output_type": "stream",
          "name": "stdout",
          "text": [
            "\n",
            " Recommended Movies for User 1:\n",
            "      movieId                                              title  \\\n",
            "108       110                                  Braveheart (1995)   \n",
            "352       356                                Forrest Gump (1994)   \n",
            "476       480                               Jurassic Park (1993)   \n",
            "1184     1210  Star Wars: Episode VI - Return of the Jedi (1983)   \n",
            "2486     2571                                 Matrix, The (1999)   \n",
            "\n",
            "                                genres  \n",
            "108                   Action|Drama|War  \n",
            "352           Comedy|Drama|Romance|War  \n",
            "476   Action|Adventure|Sci-Fi|Thriller  \n",
            "1184           Action|Adventure|Sci-Fi  \n",
            "2486            Action|Sci-Fi|Thriller  \n"
          ]
        }
      ]
    }
  ]
}